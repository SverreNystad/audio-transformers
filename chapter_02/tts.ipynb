{
 "cells": [
  {
   "cell_type": "markdown",
   "id": "a9ec0feb",
   "metadata": {},
   "source": [
    "# Common ML tasks: Text To Speak"
   ]
  },
  {
   "cell_type": "code",
   "execution_count": null,
   "id": "3af028d7",
   "metadata": {},
   "outputs": [],
   "source": [
    "%pip install transformers"
   ]
  },
  {
   "cell_type": "code",
   "execution_count": null,
   "id": "9a48a8a3",
   "metadata": {},
   "outputs": [
    {
     "name": "stderr",
     "output_type": "stream",
     "text": [
      "/home/svernys/Documents/projects/audio/venv/lib/python3.11/site-packages/tqdm/auto.py:21: TqdmWarning: IProgress not found. Please update jupyter and ipywidgets. See https://ipywidgets.readthedocs.io/en/stable/user_install.html\n",
      "  from .autonotebook import tqdm as notebook_tqdm\n"
     ]
    }
   ],
   "source": [
    "from transformers import pipeline\n",
    "\n",
    "pipe = pipeline(\"text-to-speech\", model=\"suno/bark-small\")"
   ]
  },
  {
   "cell_type": "code",
   "execution_count": null,
   "id": "4bead928",
   "metadata": {},
   "outputs": [],
   "source": [
    "text = \"Ladybugs have had important roles in culture and religion, being associated with luck, love, fertility and prophecy. \"\n",
    "output = pipe(text)"
   ]
  },
  {
   "cell_type": "code",
   "execution_count": null,
   "id": "c89e37c6",
   "metadata": {},
   "outputs": [],
   "source": [
    "fr_text = \"Contrairement à une idée répandue, le nombre de points sur les élytres d'une coccinelle ne correspond pas à son âge, ni en nombre d'années, ni en nombre de mois. \"\n",
    "output = pipe(fr_text)\n",
    "Audio(output[\"audio\"], rate=output[\"sampling_rate\"])"
   ]
  },
  {
   "cell_type": "code",
   "execution_count": null,
   "id": "dec542d2",
   "metadata": {},
   "outputs": [],
   "source": [
    "song = \"♪ In the jungle, the mighty jungle, the ladybug was seen. ♪ \"\n",
    "output = pipe(song)\n",
    "Audio(output[\"audio\"], rate=output[\"sampling_rate\"])"
   ]
  },
  {
   "cell_type": "markdown",
   "id": "5e149490",
   "metadata": {},
   "source": [
    "## Generating music"
   ]
  },
  {
   "cell_type": "code",
   "execution_count": null,
   "id": "4769d973",
   "metadata": {},
   "outputs": [],
   "source": [
    "music_pipe = pipeline(\"text-to-audio\", model=\"facebook/musicgen-small\")"
   ]
  },
  {
   "cell_type": "code",
   "execution_count": null,
   "id": "991d4ee8",
   "metadata": {},
   "outputs": [],
   "source": [
    "text = \"90s rock song with electric guitar and heavy drums\"\n",
    "\n",
    "forward_params = {\"max_new_tokens\": 512}\n",
    "\n",
    "output = music_pipe(text, forward_params=forward_params)\n",
    "Audio(output[\"audio\"][0], rate=output[\"sampling_rate\"])"
   ]
  }
 ],
 "metadata": {
  "kernelspec": {
   "display_name": "venv",
   "language": "python",
   "name": "python3"
  },
  "language_info": {
   "codemirror_mode": {
    "name": "ipython",
    "version": 3
   },
   "file_extension": ".py",
   "mimetype": "text/x-python",
   "name": "python",
   "nbconvert_exporter": "python",
   "pygments_lexer": "ipython3",
   "version": "3.11.2"
  }
 },
 "nbformat": 4,
 "nbformat_minor": 5
}
