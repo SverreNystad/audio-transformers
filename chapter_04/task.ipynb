{
 "cells": [
  {
   "cell_type": "markdown",
   "id": "2d3cb6e8",
   "metadata": {},
   "source": [
    "# Hands-on exercise\n",
    "\n",
    "It's time to get your hands on some Audio models and apply what you have learned so far. \n",
    "This exercise is one of the four hands-on exercises required to qualify for a course completion certificate.\n",
    "\n",
    "Here are the instructions.\n",
    "In this unit, we demonstrated how to fine-tune a Hubert model on `marsyas/gtzan` dataset for music classification. Our example achieved 83% accuracy. \n",
    "Your task is to improve upon this accuracy metric. \n",
    "\n",
    "Feel free to choose any model on the [🤗 Hub](https://huggingface.co/models) that you think is suitable for audio classification, \n",
    "and use the exact same dataset [`marsyas/gtzan`](https://huggingface.co/datasets/marsyas/gtzan) to build your own classifier.\n",
    "\n",
    "Your goal is to achieve 87% accuracy on this dataset with your classifier. You can choose the exact same model, and play with the training hyperparameters, \n",
    "or pick an entirely different model - it's up to you!   \n",
    "\n",
    "For your result to count towards your certificate, don't forget to push your model to Hub as was shown in this unit with \n",
    "the following `**kwargs` at the end of the training:\n",
    "\n",
    "```python\n",
    "kwargs = {\n",
    "    \"dataset_tags\": \"marsyas/gtzan\",\n",
    "    \"dataset\": \"GTZAN\",\n",
    "    \"model_name\": f\"{model_name}-finetuned-gtzan\",\n",
    "    \"finetuned_from\": model_id,\n",
    "    \"tasks\": \"audio-classification\",\n",
    "}\n",
    "\n",
    "trainer.push_to_hub(**kwargs)\n",
    "```\n",
    "\n",
    "Here are some additional resources that you may find helpful when working on this exercise:\n",
    "* [Audio classification task guide in Transformers documentation](https://huggingface.co/docs/transformers/tasks/audio_classification)\n",
    "* [Hubert model documentation](https://huggingface.co/docs/transformers/model_doc/hubert)\n",
    "* [M-CTC-T model documentation](https://huggingface.co/docs/transformers/model_doc/mctct)\n",
    "* [Audio Spectrogram Transformer documentation](https://huggingface.co/docs/transformers/model_doc/audio-spectrogram-transformer)\n",
    "* [Wav2Vec2 documentation](https://huggingface.co/docs/transformers/model_doc/wav2vec2)\n",
    "\n",
    "Feel free to build a demo of your model, and share it on Discord! If you have questions, post them in the #audio-study-group channel."
   ]
  }
 ],
 "metadata": {
  "language_info": {
   "name": "python"
  }
 },
 "nbformat": 4,
 "nbformat_minor": 5
}
