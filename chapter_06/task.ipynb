{
 "cells": [
  {
   "cell_type": "markdown",
   "id": "ebfd7998",
   "metadata": {},
   "source": [
    "# Hands-on exercise\n",
    "\n",
    "In this unit, we have explored text-to-speech audio task, talked about existing datasets, pretrained \n",
    "models and nuances of fine-tuning SpeechT5 for a new language. \n",
    "\n",
    "As you've seen, fine-tuning models for text-to-speech task can be challenging in low-resource scenarios. At the same time, \n",
    "evaluating text-to-speech models isn't easy either. \n",
    "\n",
    "For these reasons, this hands-on exercise will focus on practicing the skills rather than achieving a certain metric value. \n",
    "\n",
    "Your objective for this task is to fine-tune SpeechT5 on a dataset of your choosing. You have the freedom to select \n",
    "another language from the same `voxpopuli` dataset, or you can pick any other dataset listed in this unit.\n",
    "\n",
    "Be mindful of the training data size! For training on a free tier GPU from Google Colab, we recommend limiting the training \n",
    "data to about 10-15 hours. \n",
    "\n",
    "Once you have completed the fine-tuning process, share your model by uploading it to the Hub. Make sure to tag your model \n",
    "as a `text-to-speech` model either with appropriate kwargs, or in the Hub UI.\n",
    "\n",
    "Remember, the primary aim of this exercise is to provide you with ample practice, allowing you to refine your skills and \n",
    "gain a deeper understanding of text-to-speech audio tasks. "
   ]
  },
  {
   "cell_type": "code",
   "execution_count": null,
   "id": "bcf9767e",
   "metadata": {},
   "outputs": [],
   "source": []
  }
 ],
 "metadata": {
  "language_info": {
   "name": "python"
  }
 },
 "nbformat": 4,
 "nbformat_minor": 5
}
