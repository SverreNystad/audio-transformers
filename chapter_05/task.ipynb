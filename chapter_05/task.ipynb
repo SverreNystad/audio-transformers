{
 "cells": [
  {
   "cell_type": "markdown",
   "id": "bf7040bd",
   "metadata": {},
   "source": [
    "# Hands-on exercise\n",
    "\n",
    "In this unit, we explored the challenges of fine-tuning ASR models, acknowledging the time and resources required to\n",
    "fine-tune a model like Whisper (even a small checkpoint) on a new language. To provide a hands-on experience, we have\n",
    "designed an exercise that allows you to navigate the process of fine-tuning an ASR model while using a smaller dataset.\n",
    "The main goal of this exercise is to familiarize you with the process rather than expecting production-level results.\n",
    "We have intentionally set a low metric to ensure that even with limited resources, you should be able to achieve it.\n",
    "\n",
    "Here are the instructions:\n",
    "* Fine-tune the `”openai/whisper-tiny”` model using the American English (\"en-US\") subset of the `”PolyAI/minds14”` dataset.\n",
    "* Use the first **450 examples for training**, and the rest for evaluation. Ensure you set `num_proc=1` when pre-processing the dataset using the `.map` method (this will ensure your model is submitted correctly for assessment).\n",
    "* To evaluate the model, use the `wer` and `wer_ortho` metrics as described in this Unit. However, *do not* convert the metric into percentages by multiplying by 100 (E.g. if WER is 42%, we’ll expect to see the value of 0.42 in this exercise).\n",
    "\n",
    "Once you have fine-tuned a model, make sure to upload it to the 🤗 Hub with the following `kwargs`:\n",
    "```\n",
    "kwargs = {\n",
    "     \"dataset_tags\": \"PolyAI/minds14\",\n",
    "    \"finetuned_from\": \"openai/whisper-tiny\",\n",
    "    \"tasks\": \"automatic-speech-recognition\",\n",
    "}\n",
    "```\n",
    "You will pass this assignment if your model’s normalised WER (`wer`) is lower than **0.37**.\n",
    "\n",
    "Feel free to build a demo of your model, and share it on Discord! If you have questions, post them in the #audio-study-group channel."
   ]
  },
  {
   "cell_type": "code",
   "execution_count": 2,
   "id": "93cba858",
   "metadata": {},
   "outputs": [
    {
     "name": "stdout",
     "output_type": "stream",
     "text": [
      "Requirement already satisfied: transformers[torch] in /home/svernys/Documents/projects/audio/venv/lib/python3.11/site-packages (4.52.4)\n",
      "Requirement already satisfied: accelerate>=0.26.0 in /home/svernys/Documents/projects/audio/venv/lib/python3.11/site-packages (1.7.0)\n",
      "Requirement already satisfied: datasets in /home/svernys/Documents/projects/audio/venv/lib/python3.11/site-packages (3.6.0)\n",
      "Requirement already satisfied: gradio in /home/svernys/Documents/projects/audio/venv/lib/python3.11/site-packages (5.32.1)\n",
      "Requirement already satisfied: evaluate in /home/svernys/Documents/projects/audio/venv/lib/python3.11/site-packages (0.4.3)\n",
      "Requirement already satisfied: tensorboardX in /home/svernys/Documents/projects/audio/venv/lib/python3.11/site-packages (2.6.4)\n",
      "Requirement already satisfied: filelock in /home/svernys/Documents/projects/audio/venv/lib/python3.11/site-packages (from transformers[torch]) (3.18.0)\n",
      "Requirement already satisfied: huggingface-hub<1.0,>=0.30.0 in /home/svernys/Documents/projects/audio/venv/lib/python3.11/site-packages (from transformers[torch]) (0.32.3)\n",
      "Requirement already satisfied: numpy>=1.17 in /home/svernys/Documents/projects/audio/venv/lib/python3.11/site-packages (from transformers[torch]) (2.2.6)\n",
      "Requirement already satisfied: packaging>=20.0 in /home/svernys/Documents/projects/audio/venv/lib/python3.11/site-packages (from transformers[torch]) (25.0)\n",
      "Requirement already satisfied: pyyaml>=5.1 in /home/svernys/Documents/projects/audio/venv/lib/python3.11/site-packages (from transformers[torch]) (6.0.2)\n",
      "Requirement already satisfied: regex!=2019.12.17 in /home/svernys/Documents/projects/audio/venv/lib/python3.11/site-packages (from transformers[torch]) (2024.11.6)\n",
      "Requirement already satisfied: requests in /home/svernys/Documents/projects/audio/venv/lib/python3.11/site-packages (from transformers[torch]) (2.32.3)\n",
      "Requirement already satisfied: tokenizers<0.22,>=0.21 in /home/svernys/Documents/projects/audio/venv/lib/python3.11/site-packages (from transformers[torch]) (0.21.1)\n",
      "Requirement already satisfied: safetensors>=0.4.3 in /home/svernys/Documents/projects/audio/venv/lib/python3.11/site-packages (from transformers[torch]) (0.5.3)\n",
      "Requirement already satisfied: tqdm>=4.27 in /home/svernys/Documents/projects/audio/venv/lib/python3.11/site-packages (from transformers[torch]) (4.67.1)\n",
      "Requirement already satisfied: torch<2.7,>=2.1 in /home/svernys/Documents/projects/audio/venv/lib/python3.11/site-packages (from transformers[torch]) (2.6.0)\n",
      "Requirement already satisfied: psutil in /home/svernys/Documents/projects/audio/venv/lib/python3.11/site-packages (from accelerate>=0.26.0) (7.0.0)\n",
      "Requirement already satisfied: pyarrow>=15.0.0 in /home/svernys/Documents/projects/audio/venv/lib/python3.11/site-packages (from datasets) (20.0.0)\n",
      "Requirement already satisfied: dill<0.3.9,>=0.3.0 in /home/svernys/Documents/projects/audio/venv/lib/python3.11/site-packages (from datasets) (0.3.8)\n",
      "Requirement already satisfied: pandas in /home/svernys/Documents/projects/audio/venv/lib/python3.11/site-packages (from datasets) (2.2.3)\n",
      "Requirement already satisfied: xxhash in /home/svernys/Documents/projects/audio/venv/lib/python3.11/site-packages (from datasets) (3.5.0)\n",
      "Requirement already satisfied: multiprocess<0.70.17 in /home/svernys/Documents/projects/audio/venv/lib/python3.11/site-packages (from datasets) (0.70.16)\n",
      "Requirement already satisfied: fsspec[http]<=2025.3.0,>=2023.1.0 in /home/svernys/Documents/projects/audio/venv/lib/python3.11/site-packages (from datasets) (2025.3.0)\n",
      "Requirement already satisfied: aiofiles<25.0,>=22.0 in /home/svernys/Documents/projects/audio/venv/lib/python3.11/site-packages (from gradio) (24.1.0)\n",
      "Requirement already satisfied: anyio<5.0,>=3.0 in /home/svernys/Documents/projects/audio/venv/lib/python3.11/site-packages (from gradio) (4.9.0)\n",
      "Requirement already satisfied: fastapi<1.0,>=0.115.2 in /home/svernys/Documents/projects/audio/venv/lib/python3.11/site-packages (from gradio) (0.115.12)\n",
      "Requirement already satisfied: ffmpy in /home/svernys/Documents/projects/audio/venv/lib/python3.11/site-packages (from gradio) (0.6.0)\n",
      "Requirement already satisfied: gradio-client==1.10.2 in /home/svernys/Documents/projects/audio/venv/lib/python3.11/site-packages (from gradio) (1.10.2)\n",
      "Requirement already satisfied: groovy~=0.1 in /home/svernys/Documents/projects/audio/venv/lib/python3.11/site-packages (from gradio) (0.1.2)\n",
      "Requirement already satisfied: httpx>=0.24.1 in /home/svernys/Documents/projects/audio/venv/lib/python3.11/site-packages (from gradio) (0.28.1)\n",
      "Requirement already satisfied: jinja2<4.0 in /home/svernys/Documents/projects/audio/venv/lib/python3.11/site-packages (from gradio) (3.1.6)\n",
      "Requirement already satisfied: markupsafe<4.0,>=2.0 in /home/svernys/Documents/projects/audio/venv/lib/python3.11/site-packages (from gradio) (3.0.2)\n",
      "Requirement already satisfied: orjson~=3.0 in /home/svernys/Documents/projects/audio/venv/lib/python3.11/site-packages (from gradio) (3.10.18)\n",
      "Requirement already satisfied: pillow<12.0,>=8.0 in /home/svernys/Documents/projects/audio/venv/lib/python3.11/site-packages (from gradio) (11.2.1)\n",
      "Requirement already satisfied: pydantic<2.12,>=2.0 in /home/svernys/Documents/projects/audio/venv/lib/python3.11/site-packages (from gradio) (2.11.5)\n",
      "Requirement already satisfied: pydub in /home/svernys/Documents/projects/audio/venv/lib/python3.11/site-packages (from gradio) (0.25.1)\n",
      "Requirement already satisfied: python-multipart>=0.0.18 in /home/svernys/Documents/projects/audio/venv/lib/python3.11/site-packages (from gradio) (0.0.20)\n",
      "Requirement already satisfied: ruff>=0.9.3 in /home/svernys/Documents/projects/audio/venv/lib/python3.11/site-packages (from gradio) (0.11.12)\n",
      "Requirement already satisfied: safehttpx<0.2.0,>=0.1.6 in /home/svernys/Documents/projects/audio/venv/lib/python3.11/site-packages (from gradio) (0.1.6)\n",
      "Requirement already satisfied: semantic-version~=2.0 in /home/svernys/Documents/projects/audio/venv/lib/python3.11/site-packages (from gradio) (2.10.0)\n",
      "Requirement already satisfied: starlette<1.0,>=0.40.0 in /home/svernys/Documents/projects/audio/venv/lib/python3.11/site-packages (from gradio) (0.46.2)\n",
      "Requirement already satisfied: tomlkit<0.14.0,>=0.12.0 in /home/svernys/Documents/projects/audio/venv/lib/python3.11/site-packages (from gradio) (0.13.2)\n",
      "Requirement already satisfied: typer<1.0,>=0.12 in /home/svernys/Documents/projects/audio/venv/lib/python3.11/site-packages (from gradio) (0.16.0)\n",
      "Requirement already satisfied: typing-extensions~=4.0 in /home/svernys/Documents/projects/audio/venv/lib/python3.11/site-packages (from gradio) (4.14.0)\n",
      "Requirement already satisfied: uvicorn>=0.14.0 in /home/svernys/Documents/projects/audio/venv/lib/python3.11/site-packages (from gradio) (0.34.3)\n",
      "Requirement already satisfied: websockets<16.0,>=10.0 in /home/svernys/Documents/projects/audio/venv/lib/python3.11/site-packages (from gradio-client==1.10.2->gradio) (15.0.1)\n",
      "Requirement already satisfied: protobuf>=3.20 in /home/svernys/Documents/projects/audio/venv/lib/python3.11/site-packages (from tensorboardX) (6.31.1)\n",
      "Requirement already satisfied: idna>=2.8 in /home/svernys/Documents/projects/audio/venv/lib/python3.11/site-packages (from anyio<5.0,>=3.0->gradio) (3.10)\n",
      "Requirement already satisfied: sniffio>=1.1 in /home/svernys/Documents/projects/audio/venv/lib/python3.11/site-packages (from anyio<5.0,>=3.0->gradio) (1.3.1)\n",
      "Requirement already satisfied: aiohttp!=4.0.0a0,!=4.0.0a1 in /home/svernys/Documents/projects/audio/venv/lib/python3.11/site-packages (from fsspec[http]<=2025.3.0,>=2023.1.0->datasets) (3.12.7)\n",
      "Requirement already satisfied: certifi in /home/svernys/Documents/projects/audio/venv/lib/python3.11/site-packages (from httpx>=0.24.1->gradio) (2025.4.26)\n",
      "Requirement already satisfied: httpcore==1.* in /home/svernys/Documents/projects/audio/venv/lib/python3.11/site-packages (from httpx>=0.24.1->gradio) (1.0.9)\n",
      "Requirement already satisfied: h11>=0.16 in /home/svernys/Documents/projects/audio/venv/lib/python3.11/site-packages (from httpcore==1.*->httpx>=0.24.1->gradio) (0.16.0)\n",
      "Requirement already satisfied: hf-xet<2.0.0,>=1.1.2 in /home/svernys/Documents/projects/audio/venv/lib/python3.11/site-packages (from huggingface-hub<1.0,>=0.30.0->transformers[torch]) (1.1.2)\n",
      "Requirement already satisfied: python-dateutil>=2.8.2 in /home/svernys/Documents/projects/audio/venv/lib/python3.11/site-packages (from pandas->datasets) (2.9.0.post0)\n",
      "Requirement already satisfied: pytz>=2020.1 in /home/svernys/Documents/projects/audio/venv/lib/python3.11/site-packages (from pandas->datasets) (2025.2)\n",
      "Requirement already satisfied: tzdata>=2022.7 in /home/svernys/Documents/projects/audio/venv/lib/python3.11/site-packages (from pandas->datasets) (2025.2)\n",
      "Requirement already satisfied: annotated-types>=0.6.0 in /home/svernys/Documents/projects/audio/venv/lib/python3.11/site-packages (from pydantic<2.12,>=2.0->gradio) (0.7.0)\n",
      "Requirement already satisfied: pydantic-core==2.33.2 in /home/svernys/Documents/projects/audio/venv/lib/python3.11/site-packages (from pydantic<2.12,>=2.0->gradio) (2.33.2)\n",
      "Requirement already satisfied: typing-inspection>=0.4.0 in /home/svernys/Documents/projects/audio/venv/lib/python3.11/site-packages (from pydantic<2.12,>=2.0->gradio) (0.4.1)\n",
      "Requirement already satisfied: charset-normalizer<4,>=2 in /home/svernys/Documents/projects/audio/venv/lib/python3.11/site-packages (from requests->transformers[torch]) (3.4.2)\n",
      "Requirement already satisfied: urllib3<3,>=1.21.1 in /home/svernys/Documents/projects/audio/venv/lib/python3.11/site-packages (from requests->transformers[torch]) (2.4.0)\n",
      "Requirement already satisfied: networkx in /home/svernys/Documents/projects/audio/venv/lib/python3.11/site-packages (from torch<2.7,>=2.1->transformers[torch]) (3.5)\n",
      "Requirement already satisfied: nvidia-cuda-nvrtc-cu12==12.4.127 in /home/svernys/Documents/projects/audio/venv/lib/python3.11/site-packages (from torch<2.7,>=2.1->transformers[torch]) (12.4.127)\n",
      "Requirement already satisfied: nvidia-cuda-runtime-cu12==12.4.127 in /home/svernys/Documents/projects/audio/venv/lib/python3.11/site-packages (from torch<2.7,>=2.1->transformers[torch]) (12.4.127)\n",
      "Requirement already satisfied: nvidia-cuda-cupti-cu12==12.4.127 in /home/svernys/Documents/projects/audio/venv/lib/python3.11/site-packages (from torch<2.7,>=2.1->transformers[torch]) (12.4.127)\n",
      "Requirement already satisfied: nvidia-cudnn-cu12==9.1.0.70 in /home/svernys/Documents/projects/audio/venv/lib/python3.11/site-packages (from torch<2.7,>=2.1->transformers[torch]) (9.1.0.70)\n",
      "Requirement already satisfied: nvidia-cublas-cu12==12.4.5.8 in /home/svernys/Documents/projects/audio/venv/lib/python3.11/site-packages (from torch<2.7,>=2.1->transformers[torch]) (12.4.5.8)\n",
      "Requirement already satisfied: nvidia-cufft-cu12==11.2.1.3 in /home/svernys/Documents/projects/audio/venv/lib/python3.11/site-packages (from torch<2.7,>=2.1->transformers[torch]) (11.2.1.3)\n",
      "Requirement already satisfied: nvidia-curand-cu12==10.3.5.147 in /home/svernys/Documents/projects/audio/venv/lib/python3.11/site-packages (from torch<2.7,>=2.1->transformers[torch]) (10.3.5.147)\n",
      "Requirement already satisfied: nvidia-cusolver-cu12==11.6.1.9 in /home/svernys/Documents/projects/audio/venv/lib/python3.11/site-packages (from torch<2.7,>=2.1->transformers[torch]) (11.6.1.9)\n",
      "Requirement already satisfied: nvidia-cusparse-cu12==12.3.1.170 in /home/svernys/Documents/projects/audio/venv/lib/python3.11/site-packages (from torch<2.7,>=2.1->transformers[torch]) (12.3.1.170)\n",
      "Requirement already satisfied: nvidia-cusparselt-cu12==0.6.2 in /home/svernys/Documents/projects/audio/venv/lib/python3.11/site-packages (from torch<2.7,>=2.1->transformers[torch]) (0.6.2)\n",
      "Requirement already satisfied: nvidia-nccl-cu12==2.21.5 in /home/svernys/Documents/projects/audio/venv/lib/python3.11/site-packages (from torch<2.7,>=2.1->transformers[torch]) (2.21.5)\n",
      "Requirement already satisfied: nvidia-nvtx-cu12==12.4.127 in /home/svernys/Documents/projects/audio/venv/lib/python3.11/site-packages (from torch<2.7,>=2.1->transformers[torch]) (12.4.127)\n",
      "Requirement already satisfied: nvidia-nvjitlink-cu12==12.4.127 in /home/svernys/Documents/projects/audio/venv/lib/python3.11/site-packages (from torch<2.7,>=2.1->transformers[torch]) (12.4.127)\n",
      "Requirement already satisfied: triton==3.2.0 in /home/svernys/Documents/projects/audio/venv/lib/python3.11/site-packages (from torch<2.7,>=2.1->transformers[torch]) (3.2.0)\n",
      "Requirement already satisfied: sympy==1.13.1 in /home/svernys/Documents/projects/audio/venv/lib/python3.11/site-packages (from torch<2.7,>=2.1->transformers[torch]) (1.13.1)\n",
      "Requirement already satisfied: mpmath<1.4,>=1.1.0 in /home/svernys/Documents/projects/audio/venv/lib/python3.11/site-packages (from sympy==1.13.1->torch<2.7,>=2.1->transformers[torch]) (1.3.0)\n",
      "Requirement already satisfied: click>=8.0.0 in /home/svernys/Documents/projects/audio/venv/lib/python3.11/site-packages (from typer<1.0,>=0.12->gradio) (8.2.1)\n",
      "Requirement already satisfied: shellingham>=1.3.0 in /home/svernys/Documents/projects/audio/venv/lib/python3.11/site-packages (from typer<1.0,>=0.12->gradio) (1.5.4)\n",
      "Requirement already satisfied: rich>=10.11.0 in /home/svernys/Documents/projects/audio/venv/lib/python3.11/site-packages (from typer<1.0,>=0.12->gradio) (14.0.0)\n",
      "Requirement already satisfied: aiohappyeyeballs>=2.5.0 in /home/svernys/Documents/projects/audio/venv/lib/python3.11/site-packages (from aiohttp!=4.0.0a0,!=4.0.0a1->fsspec[http]<=2025.3.0,>=2023.1.0->datasets) (2.6.1)\n",
      "Requirement already satisfied: aiosignal>=1.1.2 in /home/svernys/Documents/projects/audio/venv/lib/python3.11/site-packages (from aiohttp!=4.0.0a0,!=4.0.0a1->fsspec[http]<=2025.3.0,>=2023.1.0->datasets) (1.3.2)\n",
      "Requirement already satisfied: attrs>=17.3.0 in /home/svernys/Documents/projects/audio/venv/lib/python3.11/site-packages (from aiohttp!=4.0.0a0,!=4.0.0a1->fsspec[http]<=2025.3.0,>=2023.1.0->datasets) (25.3.0)\n",
      "Requirement already satisfied: frozenlist>=1.1.1 in /home/svernys/Documents/projects/audio/venv/lib/python3.11/site-packages (from aiohttp!=4.0.0a0,!=4.0.0a1->fsspec[http]<=2025.3.0,>=2023.1.0->datasets) (1.6.0)\n",
      "Requirement already satisfied: multidict<7.0,>=4.5 in /home/svernys/Documents/projects/audio/venv/lib/python3.11/site-packages (from aiohttp!=4.0.0a0,!=4.0.0a1->fsspec[http]<=2025.3.0,>=2023.1.0->datasets) (6.4.4)\n",
      "Requirement already satisfied: propcache>=0.2.0 in /home/svernys/Documents/projects/audio/venv/lib/python3.11/site-packages (from aiohttp!=4.0.0a0,!=4.0.0a1->fsspec[http]<=2025.3.0,>=2023.1.0->datasets) (0.3.1)\n",
      "Requirement already satisfied: yarl<2.0,>=1.17.0 in /home/svernys/Documents/projects/audio/venv/lib/python3.11/site-packages (from aiohttp!=4.0.0a0,!=4.0.0a1->fsspec[http]<=2025.3.0,>=2023.1.0->datasets) (1.20.0)\n",
      "Requirement already satisfied: six>=1.5 in /home/svernys/Documents/projects/audio/venv/lib/python3.11/site-packages (from python-dateutil>=2.8.2->pandas->datasets) (1.17.0)\n",
      "Requirement already satisfied: markdown-it-py>=2.2.0 in /home/svernys/Documents/projects/audio/venv/lib/python3.11/site-packages (from rich>=10.11.0->typer<1.0,>=0.12->gradio) (3.0.0)\n",
      "Requirement already satisfied: pygments<3.0.0,>=2.13.0 in /home/svernys/Documents/projects/audio/venv/lib/python3.11/site-packages (from rich>=10.11.0->typer<1.0,>=0.12->gradio) (2.19.1)\n",
      "Requirement already satisfied: mdurl~=0.1 in /home/svernys/Documents/projects/audio/venv/lib/python3.11/site-packages (from markdown-it-py>=2.2.0->rich>=10.11.0->typer<1.0,>=0.12->gradio) (0.1.2)\n",
      "Note: you may need to restart the kernel to use updated packages.\n"
     ]
    }
   ],
   "source": [
    "%pip install \"transformers[torch]\" \"accelerate>=0.26.0\" datasets gradio evaluate tensorboardX"
   ]
  },
  {
   "cell_type": "code",
   "execution_count": 3,
   "id": "58feec94",
   "metadata": {},
   "outputs": [],
   "source": [
    "from datasets import load_dataset, DatasetDict, Audio\n",
    "import evaluate\n",
    "from functools import partial\n",
    "from huggingface_hub import notebook_login\n",
    "from transformers import WhisperProcessor, WhisperForConditionalGeneration, Seq2SeqTrainer, Seq2SeqTrainingArguments\n",
    "from transformers.models.whisper.english_normalizer import BasicTextNormalizer\n",
    "\n"
   ]
  },
  {
   "cell_type": "code",
   "execution_count": 4,
   "id": "aa06839d",
   "metadata": {},
   "outputs": [],
   "source": [
    "model_name = \"openai/whisper-tiny\"\n",
    "dataset_name = \"PolyAI/minds14\"\n",
    "dataset_language = \"en-US\"\n",
    "processor_language = \"english\"\n",
    "max_input_length = 30.0\n",
    "eval_metric = \"wer\"\n",
    "task = \"transcribe\""
   ]
  },
  {
   "cell_type": "code",
   "execution_count": 5,
   "id": "3bb6040c",
   "metadata": {},
   "outputs": [
    {
     "data": {
      "application/vnd.jupyter.widget-view+json": {
       "model_id": "80c2a3dcb9074388a9040bb907070989",
       "version_major": 2,
       "version_minor": 0
      },
      "text/plain": [
       "VBox(children=(HTML(value='<center> <img\\nsrc=https://huggingface.co/front/assets/huggingface_logo-noborder.sv…"
      ]
     },
     "metadata": {},
     "output_type": "display_data"
    }
   ],
   "source": [
    "notebook_login()"
   ]
  },
  {
   "cell_type": "markdown",
   "id": "583dc959",
   "metadata": {},
   "source": [
    "## Load and preprocess the dataset and model\n",
    "\n"
   ]
  },
  {
   "cell_type": "code",
   "execution_count": 6,
   "id": "4ad8f321",
   "metadata": {},
   "outputs": [
    {
     "name": "stdout",
     "output_type": "stream",
     "text": [
      "DatasetDict({\n",
      "    train: Dataset({\n",
      "        features: ['path', 'audio', 'transcription', 'english_transcription', 'intent_class', 'lang_id'],\n",
      "        num_rows: 450\n",
      "    })\n",
      "    test: Dataset({\n",
      "        features: ['path', 'audio', 'transcription', 'english_transcription', 'intent_class', 'lang_id'],\n",
      "        num_rows: 113\n",
      "    })\n",
      "})\n"
     ]
    }
   ],
   "source": [
    "dataset: DatasetDict = load_dataset(\n",
    "    dataset_name, dataset_language, split=\"train\"\n",
    ").train_test_split(seed=42, shuffle=False, test_size=0.2)\n",
    "\n",
    "\n",
    "print(dataset)"
   ]
  },
  {
   "cell_type": "code",
   "execution_count": 7,
   "id": "9776597b",
   "metadata": {},
   "outputs": [],
   "source": [
    "processor = WhisperProcessor.from_pretrained(\n",
    "    model_name,\n",
    "    language=processor_language,\n",
    "    task=task,\n",
    ")"
   ]
  },
  {
   "cell_type": "code",
   "execution_count": 8,
   "id": "46a151a5",
   "metadata": {},
   "outputs": [
    {
     "data": {
      "text/plain": [
       "{'path': Value(dtype='string', id=None),\n",
       " 'audio': Audio(sampling_rate=8000, mono=True, decode=True, id=None),\n",
       " 'transcription': Value(dtype='string', id=None),\n",
       " 'english_transcription': Value(dtype='string', id=None),\n",
       " 'intent_class': ClassLabel(names=['abroad', 'address', 'app_error', 'atm_limit', 'balance', 'business_loan', 'card_issues', 'cash_deposit', 'direct_debit', 'freeze', 'high_value_payment', 'joint_account', 'latest_transactions', 'pay_bill'], id=None),\n",
       " 'lang_id': ClassLabel(names=['cs-CZ', 'de-DE', 'en-AU', 'en-GB', 'en-US', 'es-ES', 'fr-FR', 'it-IT', 'ko-KR', 'nl-NL', 'pl-PL', 'pt-PT', 'ru-RU', 'zh-CN'], id=None)}"
      ]
     },
     "execution_count": 8,
     "metadata": {},
     "output_type": "execute_result"
    }
   ],
   "source": [
    "dataset[\"train\"].features"
   ]
  },
  {
   "cell_type": "markdown",
   "id": "14546e5a",
   "metadata": {},
   "source": [
    "We’ll set the audio inputs to the correct sampling rate using dataset’s `cast_column` method. This operation does not change the audio in-place, but rather signals to datasets to resample audio samples on-the-fly when they are loaded:"
   ]
  },
  {
   "cell_type": "code",
   "execution_count": 9,
   "id": "5cf4f5d4",
   "metadata": {},
   "outputs": [],
   "source": [
    "sampling_rate = processor.feature_extractor.sampling_rate\n",
    "dataset = dataset.cast_column(\"audio\", Audio(sampling_rate=sampling_rate))"
   ]
  },
  {
   "cell_type": "code",
   "execution_count": 10,
   "id": "e58c28e7",
   "metadata": {},
   "outputs": [
    {
     "name": "stdout",
     "output_type": "stream",
     "text": [
      "{'path': '/home/svernys/.cache/huggingface/datasets/downloads/extracted/006687c72f62d73aea93cc14b4904e5e42a68ac457f745dc2b866ae093470839/en-US~JOINT_ACCOUNT/602ba55abb1e6d0fbce92065.wav', 'audio': {'path': '/home/svernys/.cache/huggingface/datasets/downloads/extracted/006687c72f62d73aea93cc14b4904e5e42a68ac457f745dc2b866ae093470839/en-US~JOINT_ACCOUNT/602ba55abb1e6d0fbce92065.wav', 'array': array([ 1.70562416e-05,  2.18727451e-04,  2.28099874e-04, ...,\n",
      "        3.43842403e-05, -5.96364771e-06, -1.76846661e-05], shape=(173398,)), 'sampling_rate': 16000}, 'transcription': 'I would like to set up a joint account with my partner', 'english_transcription': 'I would like to set up a joint account with my partner', 'intent_class': 11, 'lang_id': 4}\n"
     ]
    }
   ],
   "source": [
    "example = dataset[\"train\"][0]\n",
    "print(example)"
   ]
  },
  {
   "cell_type": "code",
   "execution_count": 11,
   "id": "56da8728",
   "metadata": {},
   "outputs": [],
   "source": [
    "def prepare_dataset(example):\n",
    "    audio = example[\"audio\"]\n",
    "\n",
    "    example = processor(\n",
    "        audio=audio[\"array\"],\n",
    "        sampling_rate=audio[\"sampling_rate\"],\n",
    "        text=example[\"transcription\"],\n",
    "    )\n",
    "\n",
    "    # compute input length of audio sample in seconds\n",
    "    example[\"input_length\"] = len(audio[\"array\"]) / audio[\"sampling_rate\"]\n",
    "\n",
    "    return example"
   ]
  },
  {
   "cell_type": "code",
   "execution_count": 12,
   "id": "7167b864",
   "metadata": {},
   "outputs": [],
   "source": [
    "dataset = dataset.map(\n",
    "    prepare_dataset, remove_columns=dataset.column_names[\"train\"], num_proc=1\n",
    ")"
   ]
  },
  {
   "cell_type": "code",
   "execution_count": 13,
   "id": "31e03f5e",
   "metadata": {},
   "outputs": [],
   "source": [
    "def is_audio_in_length_range(length):\n",
    "    return length < max_input_length"
   ]
  },
  {
   "cell_type": "code",
   "execution_count": 14,
   "id": "9212767c",
   "metadata": {},
   "outputs": [],
   "source": [
    "dataset[\"train\"] = dataset[\"train\"].filter(\n",
    "    is_audio_in_length_range,\n",
    "    input_columns=[\"input_length\"],\n",
    ")"
   ]
  },
  {
   "cell_type": "code",
   "execution_count": 15,
   "id": "25c3cf7e",
   "metadata": {},
   "outputs": [
    {
     "data": {
      "text/plain": [
       "Dataset({\n",
       "    features: ['input_features', 'labels', 'input_length'],\n",
       "    num_rows: 445\n",
       "})"
      ]
     },
     "execution_count": 15,
     "metadata": {},
     "output_type": "execute_result"
    }
   ],
   "source": [
    "# Inspect the dataset\n",
    "dataset[\"train\"]"
   ]
  },
  {
   "cell_type": "markdown",
   "id": "41b5471e",
   "metadata": {},
   "source": [
    "## Data collator\n",
    "Data collators are objects that will form a batch by using a list of dataset elements as input. These elements are of the same type as the elements of train_dataset or eval_dataset.\n",
    "\n",
    "To be able to build batches, data collators may apply some processing (like padding). Some of them (like DataCollatorForLanguageModeling) also apply some random data augmentation (like random masking) on the formed batch."
   ]
  },
  {
   "cell_type": "code",
   "execution_count": 16,
   "id": "d0312913",
   "metadata": {},
   "outputs": [],
   "source": [
    "import torch\n",
    "\n",
    "from dataclasses import dataclass\n",
    "from typing import Any, Dict, List, Union\n",
    "\n",
    "\n",
    "@dataclass\n",
    "class DataCollatorSpeechSeq2SeqWithPadding:\n",
    "    processor: Any\n",
    "\n",
    "    def __call__(\n",
    "        self, features: List[Dict[str, Union[List[int], torch.Tensor]]]\n",
    "    ) -> Dict[str, torch.Tensor]:\n",
    "        # split inputs and labels since they have to be of different lengths and need different padding methods\n",
    "        # first treat the audio inputs by simply returning torch tensors\n",
    "        input_features = [\n",
    "            {\"input_features\": feature[\"input_features\"][0]} for feature in features\n",
    "        ]\n",
    "        batch = self.processor.feature_extractor.pad(input_features, return_tensors=\"pt\")\n",
    "\n",
    "        # get the tokenized label sequences\n",
    "        label_features = [{\"input_ids\": feature[\"labels\"]} for feature in features]\n",
    "        # pad the labels to max length\n",
    "        labels_batch = self.processor.tokenizer.pad(label_features, return_tensors=\"pt\")\n",
    "\n",
    "        # replace padding with -100 to ignore loss correctly\n",
    "        labels = labels_batch[\"input_ids\"].masked_fill(\n",
    "            labels_batch.attention_mask.ne(1), -100\n",
    "        )\n",
    "\n",
    "        # if bos token is appended in previous tokenization step,\n",
    "        # cut bos token here as it's append later anyways\n",
    "        if (labels[:, 0] == self.processor.tokenizer.bos_token_id).all().cpu().item():\n",
    "            labels = labels[:, 1:]\n",
    "\n",
    "        batch[\"labels\"] = labels\n",
    "\n",
    "        return batch"
   ]
  },
  {
   "cell_type": "code",
   "execution_count": 17,
   "id": "6434ec80",
   "metadata": {},
   "outputs": [],
   "source": [
    "data_collator = DataCollatorSpeechSeq2SeqWithPadding(processor=processor)"
   ]
  },
  {
   "cell_type": "markdown",
   "id": "b5375ee5",
   "metadata": {},
   "source": [
    "## Evaluation metrics\n"
   ]
  },
  {
   "cell_type": "code",
   "execution_count": 18,
   "id": "1f9ee172",
   "metadata": {},
   "outputs": [],
   "source": [
    "\n",
    "metric = evaluate.load(eval_metric)"
   ]
  },
  {
   "cell_type": "code",
   "execution_count": 19,
   "id": "0822377e",
   "metadata": {},
   "outputs": [],
   "source": [
    "\n",
    "normalizer = BasicTextNormalizer()\n",
    "\n",
    "\n",
    "def compute_metrics(pred):\n",
    "    pred_ids = pred.predictions\n",
    "    label_ids = pred.label_ids\n",
    "\n",
    "    # replace -100 with the pad_token_id\n",
    "    label_ids[label_ids == -100] = processor.tokenizer.pad_token_id\n",
    "\n",
    "    # we do not want to group tokens when computing the metrics\n",
    "    pred_str = processor.batch_decode(pred_ids, skip_special_tokens=True)\n",
    "    label_str = processor.batch_decode(label_ids, skip_special_tokens=True)\n",
    "\n",
    "    # compute orthographic \n",
    "    eval_ortho = 100 * metric.compute(predictions=pred_str, references=label_str)\n",
    "\n",
    "    # compute normalised\n",
    "    pred_str_norm = [normalizer(pred) for pred in pred_str]\n",
    "    label_str_norm = [normalizer(label) for label in label_str]\n",
    "    # filtering step to only evaluate the samples that correspond to non-zero references:\n",
    "    pred_str_norm = [\n",
    "        pred_str_norm[i] for i in range(len(pred_str_norm)) if len(label_str_norm[i]) > 0\n",
    "    ]\n",
    "    label_str_norm = [\n",
    "        label_str_norm[i]\n",
    "        for i in range(len(label_str_norm))\n",
    "        if len(label_str_norm[i]) > 0\n",
    "    ]\n",
    "\n",
    "    norm_eval = 100 * metric.compute(predictions=pred_str_norm, references=label_str_norm)\n",
    "\n",
    "    return {f\"{eval_metric}_ortho\": eval_ortho, eval_metric: norm_eval}"
   ]
  },
  {
   "cell_type": "code",
   "execution_count": 20,
   "id": "f51f63a5",
   "metadata": {},
   "outputs": [],
   "source": [
    "model = WhisperForConditionalGeneration.from_pretrained(model_name)"
   ]
  },
  {
   "cell_type": "markdown",
   "id": "14f92f6b",
   "metadata": {},
   "source": [
    "## Training arguments"
   ]
  },
  {
   "cell_type": "code",
   "execution_count": 21,
   "id": "88563b7d",
   "metadata": {},
   "outputs": [],
   "source": [
    "\n",
    "# disable cache during training since it's incompatible with gradient checkpointing\n",
    "model.config.use_cache = False\n",
    "\n",
    "# set language and task for generation and re-enable cache\n",
    "model.generate = partial(\n",
    "    model.generate, language=processor_language, task=task, use_cache=True\n",
    ")"
   ]
  },
  {
   "cell_type": "code",
   "execution_count": 22,
   "id": "e2d2452a",
   "metadata": {},
   "outputs": [],
   "source": [
    "\n",
    "training_args = Seq2SeqTrainingArguments(\n",
    "    output_dir=f\"./{model_name}-{processor_language}\",  # name on the HF Hub\n",
    "    per_device_train_batch_size=16,\n",
    "    gradient_accumulation_steps=1,  # increase by 2x for every 2x decrease in batch size\n",
    "    learning_rate=1e-5,\n",
    "    lr_scheduler_type=\"constant_with_warmup\",\n",
    "    warmup_steps=50,\n",
    "    max_steps=500,  # increase to 4000 if you have your own GPU or a Colab paid plan\n",
    "    gradient_checkpointing=True,\n",
    "    fp16=True,\n",
    "    fp16_full_eval=True,\n",
    "    eval_strategy=\"steps\",\n",
    "    per_device_eval_batch_size=16,\n",
    "    predict_with_generate=True,\n",
    "    generation_max_length=225,\n",
    "    save_steps=500,\n",
    "    eval_steps=500,\n",
    "    logging_steps=25,\n",
    "    report_to=[\"tensorboard\"],\n",
    "    load_best_model_at_end=True,\n",
    "    metric_for_best_model=eval_metric,\n",
    "    greater_is_better=False,\n",
    "    push_to_hub=True,\n",
    ")"
   ]
  },
  {
   "cell_type": "code",
   "execution_count": 23,
   "id": "9c20c2dd",
   "metadata": {},
   "outputs": [
    {
     "name": "stderr",
     "output_type": "stream",
     "text": [
      "/tmp/ipykernel_241707/4273919412.py:1: FutureWarning: `tokenizer` is deprecated and will be removed in version 5.0.0 for `Seq2SeqTrainer.__init__`. Use `processing_class` instead.\n",
      "  trainer = Seq2SeqTrainer(\n"
     ]
    }
   ],
   "source": [
    "trainer = Seq2SeqTrainer(\n",
    "    args=training_args,\n",
    "    model=model,\n",
    "    train_dataset=dataset[\"train\"],\n",
    "    eval_dataset=dataset[\"test\"],\n",
    "    data_collator=data_collator,\n",
    "    compute_metrics=compute_metrics,\n",
    "    tokenizer=processor,\n",
    ")"
   ]
  },
  {
   "cell_type": "code",
   "execution_count": null,
   "id": "807ed78f",
   "metadata": {},
   "outputs": [],
   "source": [
    "trainer.train()"
   ]
  },
  {
   "cell_type": "code",
   "execution_count": null,
   "id": "f2177f86",
   "metadata": {},
   "outputs": [],
   "source": [
    "kwargs = {\n",
    "    \"dataset_tags\": dataset_name,\n",
    "    \"dataset\": dataset_name,\n",
    "    \"language\": dataset_language,\n",
    "    \"model_name\": \"Whisper Small En - Sverre Nystad\",\n",
    "    \"finetuned_from\": model_name,\n",
    "    \"tasks\": \"automatic-speech-recognition\",\n",
    "}"
   ]
  },
  {
   "cell_type": "code",
   "execution_count": null,
   "id": "a394d990",
   "metadata": {},
   "outputs": [],
   "source": [
    "trainer.push_to_hub(**kwargs)\n"
   ]
  },
  {
   "cell_type": "code",
   "execution_count": null,
   "id": "4f70d594",
   "metadata": {},
   "outputs": [],
   "source": [
    "from transformers import pipeline\n",
    "\n",
    "pipe = pipeline(\"automatic-speech-recognition\", model=\"SverreNystad/whisper-small-en\")"
   ]
  }
 ],
 "metadata": {
  "kernelspec": {
   "display_name": "venv",
   "language": "python",
   "name": "python3"
  },
  "language_info": {
   "codemirror_mode": {
    "name": "ipython",
    "version": 3
   },
   "file_extension": ".py",
   "mimetype": "text/x-python",
   "name": "python",
   "nbconvert_exporter": "python",
   "pygments_lexer": "ipython3",
   "version": "3.11.2"
  }
 },
 "nbformat": 4,
 "nbformat_minor": 5
}
